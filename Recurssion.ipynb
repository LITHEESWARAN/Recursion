{
 "cells": [
  {
   "cell_type": "code",
   "execution_count": 1,
   "id": "57442dd4",
   "metadata": {},
   "outputs": [
    {
     "name": "stdout",
     "output_type": "stream",
     "text": [
      "T(2) = 105\n"
     ]
    }
   ],
   "source": [
    "#1. Find the value of T(2) for the recurrence relation T(n) = 3T(n-1) + 12n, given that T(0)=5.\n",
    "def T(n):\n",
    "    if n == 0:\n",
    "        return 5\n",
    "    else:\n",
    "        return 3 * T(n - 1) + 12 * n\n",
    "\n",
    "# Compute T(2)\n",
    "result = T(2)\n",
    "print(f\"T(2) = {result}\")\n"
   ]
  },
  {
   "cell_type": "code",
   "execution_count": 2,
   "id": "0c3b1754",
   "metadata": {},
   "outputs": [
    {
     "name": "stdout",
     "output_type": "stream",
     "text": [
      "T(n) for T(n) = T(n-1) + c is 60\n"
     ]
    }
   ],
   "source": [
    "#2. Solving recurrence relations using different methods:\n",
    "#a. T(n) = T(n-1) + c\n",
    "def T_a(n, c, T_0):\n",
    "    return T_0 + c * n\n",
    "\n",
    "# Example usage\n",
    "c = 5\n",
    "T_0 = 10\n",
    "n = 10\n",
    "result_a = T_a(n, c, T_0)\n",
    "print(f\"T(n) for T(n) = T(n-1) + c is {result_a}\")\n"
   ]
  },
  {
   "cell_type": "code",
   "execution_count": 3,
   "id": "39265c14",
   "metadata": {},
   "outputs": [
    {
     "name": "stdout",
     "output_type": "stream",
     "text": [
      "T(n) for T(n) = 2T(n/2) + n is 32\n"
     ]
    }
   ],
   "source": [
    "#b. T(n) = 2T(n/2) + n\n",
    "def T_b(n):\n",
    "    if n == 1:\n",
    "        return 1  # Base case, can be adjusted\n",
    "    else:\n",
    "        return 2 * T_b(n // 2) + n\n",
    "\n",
    "# Compute T(n) for a specific n\n",
    "n = 8\n",
    "result_b = T_b(n)\n",
    "print(f\"T(n) for T(n) = 2T(n/2) + n is {result_b}\")\n"
   ]
  },
  {
   "cell_type": "code",
   "execution_count": 4,
   "id": "88c5d913",
   "metadata": {},
   "outputs": [
    {
     "name": "stdout",
     "output_type": "stream",
     "text": [
      "T(n) for T(n) = 2T(n/2) + c is 45\n"
     ]
    }
   ],
   "source": [
    "#c. T(n) = 2T(n/2) + c\n",
    "def T_c(n, c):\n",
    "    if n == 1:\n",
    "        return c  # Base case\n",
    "    else:\n",
    "        return 2 * T_c(n // 2, c) + c\n",
    "\n",
    "# Compute T(n) for a specific n and c\n",
    "n = 8\n",
    "c = 3\n",
    "result_c = T_c(n, c)\n",
    "print(f\"T(n) for T(n) = 2T(n/2) + c is {result_c}\")\n"
   ]
  },
  {
   "cell_type": "code",
   "execution_count": 5,
   "id": "4d97930c",
   "metadata": {},
   "outputs": [
    {
     "name": "stdout",
     "output_type": "stream",
     "text": [
      "T(n) for T(n) = T(n/2) + c is 12\n"
     ]
    }
   ],
   "source": [
    "#d. T(n) = T(n/2) + c\n",
    "def T_d(n, c):\n",
    "    if n == 1:\n",
    "        return c  # Base case\n",
    "    else:\n",
    "        return T_d(n // 2, c) + c\n",
    "\n",
    "# Compute T(n) for a specific n and c\n",
    "n = 8\n",
    "c = 3\n",
    "result_d = T_d(n, c)\n",
    "print(f\"T(n) for T(n) = T(n/2) + c is {result_d}\")\n"
   ]
  },
  {
   "cell_type": "code",
   "execution_count": 6,
   "id": "2a944cb1",
   "metadata": {},
   "outputs": [
    {
     "name": "stdout",
     "output_type": "stream",
     "text": [
      "T(n) for T(n) = 2T(n-1) + 1 is 31\n"
     ]
    }
   ],
   "source": [
    "#3. Given a recurrence relation, solve it using the recursive tree approach:\n",
    "#a. T(n) = 2T(n-1) +1\n",
    "def T_recursive_tree_a(n):\n",
    "    if n == 0:\n",
    "        return 1  # Base case, can be adjusted\n",
    "    else:\n",
    "        return 2 * T_recursive_tree_a(n - 1) + 1\n",
    "\n",
    "# Compute T(n) for a specific n\n",
    "n = 4\n",
    "result_recursive_tree_a = T_recursive_tree_a(n)\n",
    "print(f\"T(n) for T(n) = 2T(n-1) + 1 is {result_recursive_tree_a}\")\n"
   ]
  },
  {
   "cell_type": "code",
   "execution_count": 7,
   "id": "95c5313d",
   "metadata": {},
   "outputs": [
    {
     "name": "stdout",
     "output_type": "stream",
     "text": [
      "T(n) for T(n) = 2T(n/2) + n is 32\n"
     ]
    }
   ],
   "source": [
    "#b. T(n) = 2T(n/2) + n\n",
    "def T_recursive_tree_b(n):\n",
    "    if n == 1:\n",
    "        return 1  # Base case, can be adjusted\n",
    "    else:\n",
    "        return 2 * T_recursive_tree_b(n // 2) + n\n",
    "\n",
    "# Compute T(n) for a specific n\n",
    "n = 8\n",
    "result_recursive_tree_b = T_recursive_tree_b(n)\n",
    "print(f\"T(n) for T(n) = 2T(n/2) + n is {result_recursive_tree_b}\")\n"
   ]
  },
  {
   "cell_type": "code",
   "execution_count": null,
   "id": "6829a4da",
   "metadata": {},
   "outputs": [],
   "source": []
  }
 ],
 "metadata": {
  "kernelspec": {
   "display_name": "Python 3 (ipykernel)",
   "language": "python",
   "name": "python3"
  },
  "language_info": {
   "codemirror_mode": {
    "name": "ipython",
    "version": 3
   },
   "file_extension": ".py",
   "mimetype": "text/x-python",
   "name": "python",
   "nbconvert_exporter": "python",
   "pygments_lexer": "ipython3",
   "version": "3.9.12"
  }
 },
 "nbformat": 4,
 "nbformat_minor": 5
}
